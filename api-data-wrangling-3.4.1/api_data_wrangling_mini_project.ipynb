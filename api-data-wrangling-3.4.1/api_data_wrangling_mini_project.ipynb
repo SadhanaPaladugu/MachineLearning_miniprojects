{
 "cells": [
  {
   "cell_type": "markdown",
   "metadata": {},
   "source": [
    "This exercise will require you to pull some data from the Qunadl API. Qaundl is currently the most widely used aggregator of financial market data."
   ]
  },
  {
   "cell_type": "markdown",
   "metadata": {},
   "source": [
    "As a first step, you will need to register a free account on the http://www.quandl.com website."
   ]
  },
  {
   "cell_type": "markdown",
   "metadata": {},
   "source": [
    "After you register, you will be provided with a unique API key, that you should store:"
   ]
  },
  {
   "cell_type": "code",
   "execution_count": 2,
   "metadata": {},
   "outputs": [],
   "source": [
    "# Store the API key as a string - according to PEP8, constants are always named in all upper case\n",
    "API_KEY = 'uFExc518myy1dnHGzKNh'"
   ]
  },
  {
   "cell_type": "markdown",
   "metadata": {},
   "source": [
    "Qaundl has a large number of data sources, but, unfortunately, most of them require a Premium subscription. Still, there are also a good number of free datasets."
   ]
  },
  {
   "cell_type": "markdown",
   "metadata": {},
   "source": [
    "For this mini project, we will focus on equities data from the Frankfurt Stock Exhange (FSE), which is available for free. We'll try and analyze the stock prices of a company called Carl Zeiss Meditec, which manufactures tools for eye examinations, as well as medical lasers for laser eye surgery: https://www.zeiss.com/meditec/int/home.html. The company is listed under the stock ticker AFX_X."
   ]
  },
  {
   "cell_type": "markdown",
   "metadata": {},
   "source": [
    "You can find the detailed Quandl API instructions here: https://docs.quandl.com/docs/time-series"
   ]
  },
  {
   "cell_type": "markdown",
   "metadata": {},
   "source": [
    "While there is a dedicated Python package for connecting to the Quandl API, we would prefer that you use the *requests* package, which can be easily downloaded using *pip* or *conda*. You can find the documentation for the package here: http://docs.python-requests.org/en/master/ "
   ]
  },
  {
   "cell_type": "markdown",
   "metadata": {},
   "source": [
    "Finally, apart from the *requests* package, you are encouraged to not use any third party Python packages, such as *pandas*, and instead focus on what's available in the Python Standard Library (the *collections* module might come in handy: https://pymotw.com/3/collections/).\n",
    "Also, since you won't have access to DataFrames, you are encouraged to us Python's native data structures - preferably dictionaries, though some questions can also be answered using lists.\n",
    "You can read more on these data structures here: https://docs.python.org/3/tutorial/datastructures.html"
   ]
  },
  {
   "cell_type": "markdown",
   "metadata": {},
   "source": [
    "Keep in mind that the JSON responses you will be getting from the API map almost one-to-one to Python's dictionaries. Unfortunately, they can be very nested, so make sure you read up on indexing dictionaries in the documentation provided above."
   ]
  },
  {
   "cell_type": "code",
   "execution_count": 3,
   "metadata": {},
   "outputs": [],
   "source": [
    "# First, import the relevant modules\n",
    "import json\n",
    "import requests\n"
   ]
  },
  {
   "cell_type": "code",
   "execution_count": 4,
   "metadata": {},
   "outputs": [
    {
     "name": "stdout",
     "output_type": "stream",
     "text": [
      "{'isin': 'DE0005313704', 'data': [{'date': '2017-12-29', 'open': 51.76, 'close': 51.76, 'high': 51.94, 'low': 51.45, 'turnoverPieces': 34640, 'turnoverEuro': 1792304.5}, {'date': '2017-12-28', 'open': 51.65, 'close': 51.6, 'high': 51.82, 'low': 51.43, 'turnoverPieces': 40660, 'turnoverEuro': 2099024.25}, {'date': '2017-12-27', 'open': 51.45, 'close': 51.82, 'high': 51.89, 'low': 50.76, 'turnoverPieces': 57452, 'turnoverEuro': 2957017.75}, {'date': '2017-12-22', 'open': 51.05, 'close': 51.32, 'high': 51.5, 'low': 50.92, 'turnoverPieces': 71165, 'turnoverEuro': 3641948.5}, {'date': '2017-12-21', 'open': 51.16, 'close': 51.4, 'high': 51.52, 'low': 50.9, 'turnoverPieces': 120649, 'turnoverEuro': 6179432.5}, {'date': '2017-12-20', 'open': 51.88, 'close': 51.27, 'high': 52.04, 'low': 51.2, 'turnoverPieces': 50587, 'turnoverEuro': 2610257.5}, {'date': '2017-12-19', 'open': 52.73, 'close': 51.66, 'high': 52.73, 'low': 51.07, 'turnoverPieces': 137313, 'turnoverEuro': 7102360.5}, {'date': '2017-12-18', 'open': 52.37, 'close': 52.62, 'high': 52.75, 'low': 51.61, 'turnoverPieces': 129733, 'turnoverEuro': 6770498.5}, {'date': '2017-12-15', 'open': 52.7, 'close': 52.01, 'high': 52.7, 'low': 51.64, 'turnoverPieces': 204080, 'turnoverEuro': 10596319}, {'date': '2017-12-14', 'open': 53.11, 'close': 52.67, 'high': 53.54, 'low': 52.15, 'turnoverPieces': 132981, 'turnoverEuro': 7016952.5}, {'date': '2017-12-13', 'open': 52.64, 'close': 53.09, 'high': 53.35, 'low': 52.48, 'turnoverPieces': 128434, 'turnoverEuro': 6801159}, {'date': '2017-12-12', 'open': 52.29, 'close': 52.43, 'high': 53.1, 'low': 51.82, 'turnoverPieces': 87911, 'turnoverEuro': 4615923.5}, {'date': '2017-12-11', 'open': 52.28, 'close': 52.14, 'high': 52.45, 'low': 51.26, 'turnoverPieces': 71817, 'turnoverEuro': 3724192.75}, {'date': '2017-12-08', 'open': 51.5, 'close': 52.12, 'high': 52.83, 'low': 51.28, 'turnoverPieces': 109157, 'turnoverEuro': 5690648.5}, {'date': '2017-12-07', 'open': 50.89, 'close': 51.47, 'high': 51.47, 'low': 50.81, 'turnoverPieces': 48123, 'turnoverEuro': 2463848}, {'date': '2017-12-06', 'open': 50.8, 'close': 50.89, 'high': 51.11, 'low': 50.39, 'turnoverPieces': 88730, 'turnoverEuro': 4504075.5}, {'date': '2017-12-05', 'open': 51.21, 'close': 51.25, 'high': 51.38, 'low': 50.4, 'turnoverPieces': 83023, 'turnoverEuro': 4231970.5}, {'date': '2017-12-04', 'open': 49.5, 'close': 51.14, 'high': 51.23, 'low': 49.5, 'turnoverPieces': 94385, 'turnoverEuro': 4796473.41}, {'date': '2017-12-01', 'open': 49.52, 'close': 49.855, 'high': 50.49, 'low': 49.165, 'turnoverPieces': 101733, 'turnoverEuro': 5065931.5}, {'date': '2017-11-30', 'open': 48.635, 'close': 49.7, 'high': 49.835, 'low': 48.28, 'turnoverPieces': 123019, 'turnoverEuro': 6085171.5}, {'date': '2017-11-29', 'open': 49.635, 'close': 48.75, 'high': 49.635, 'low': 48.695, 'turnoverPieces': 67342, 'turnoverEuro': 3292223}, {'date': '2017-11-28', 'open': 49.09, 'close': 49.25, 'high': 49.89, 'low': 49.03, 'turnoverPieces': 42669, 'turnoverEuro': 2107358.25}, {'date': '2017-11-27', 'open': 49.125, 'close': 49.2, 'high': 49.73, 'low': 48.955, 'turnoverPieces': 102180, 'turnoverEuro': 5055762}, {'date': '2017-11-24', 'open': 49.105, 'close': 49.105, 'high': 49.41, 'low': 48.87, 'turnoverPieces': 50350, 'turnoverEuro': 2472841.75}, {'date': '2017-11-23', 'open': 48.8, 'close': 49.2, 'high': 49.455, 'low': 48.445, 'turnoverPieces': 38834, 'turnoverEuro': 1909351.63}, {'date': '2017-11-22', 'open': 48.4, 'close': 48.8, 'high': 49.605, 'low': 48.385, 'turnoverPieces': 91142, 'turnoverEuro': 4478093}, {'date': '2017-11-21', 'open': 47.245, 'close': 48.385, 'high': 48.59, 'low': 46.775, 'turnoverPieces': 78502, 'turnoverEuro': 3782098}, {'date': '2017-11-20', 'open': 46.57, 'close': 47.035, 'high': 47.375, 'low': 46.54, 'turnoverPieces': 97252, 'turnoverEuro': 4563515.5}, {'date': '2017-11-17', 'open': 47.025, 'close': 46.835, 'high': 47.145, 'low': 46.8, 'turnoverPieces': 54107, 'turnoverEuro': 2540820.25}, {'date': '2017-11-16', 'open': 47.085, 'close': 47.03, 'high': 47.23, 'low': 46.545, 'turnoverPieces': 89373, 'turnoverEuro': 4195732.5}, {'date': '2017-11-15', 'open': 47.975, 'close': 47.045, 'high': 48.01, 'low': 46.745, 'turnoverPieces': 67593, 'turnoverEuro': 3188320.5}, {'date': '2017-11-14', 'open': 48.395, 'close': 48, 'high': 48.9, 'low': 47.835, 'turnoverPieces': 67672, 'turnoverEuro': 3259979.25}, {'date': '2017-11-13', 'open': 48.375, 'close': 48.34, 'high': 48.61, 'low': 47.755, 'turnoverPieces': 76286, 'turnoverEuro': 3681336.5}, {'date': '2017-11-10', 'open': 47.295, 'close': 48.34, 'high': 48.89, 'low': 47.155, 'turnoverPieces': 90245, 'turnoverEuro': 4361551.5}, {'date': '2017-11-09', 'open': 47.65, 'close': 47.21, 'high': 48.06, 'low': 47.085, 'turnoverPieces': 120268, 'turnoverEuro': 5712034}, {'date': '2017-11-08', 'open': 46.42, 'close': 47.465, 'high': 47.72, 'low': 46.42, 'turnoverPieces': 94195, 'turnoverEuro': 4463935}, {'date': '2017-11-07', 'open': 46.16, 'close': 46.255, 'high': 46.325, 'low': 45.835, 'turnoverPieces': 48152, 'turnoverEuro': 2224221.25}, {'date': '2017-11-06', 'open': 45.805, 'close': 45.985, 'high': 46.085, 'low': 45.76, 'turnoverPieces': 60716, 'turnoverEuro': 2789219.75}, {'date': '2017-11-03', 'open': 45, 'close': 45.965, 'high': 46.04, 'low': 44.83, 'turnoverPieces': 56911, 'turnoverEuro': 2603497.75}, {'date': '2017-11-02', 'open': 45.88, 'close': 45.265, 'high': 46.055, 'low': 45.18, 'turnoverPieces': 37958, 'turnoverEuro': 1724840}, {'date': '2017-11-01', 'open': 46.29, 'close': 46.035, 'high': 46.55, 'low': 45.965, 'turnoverPieces': 56319, 'turnoverEuro': 2603859.25}, {'date': '2017-10-30', 'open': 46.525, 'close': 45.76, 'high': 46.645, 'low': 45.605, 'turnoverPieces': 56245, 'turnoverEuro': 2585396.75}, {'date': '2017-10-27', 'open': 45.48, 'close': 46.405, 'high': 46.415, 'low': 45.455, 'turnoverPieces': 74472, 'turnoverEuro': 3434087.25}, {'date': '2017-10-26', 'open': 45.195, 'close': 45.405, 'high': 45.405, 'low': 44.91, 'turnoverPieces': 56319, 'turnoverEuro': 2548078.25}, {'date': '2017-10-25', 'open': 45.01, 'close': 45, 'high': 45.055, 'low': 44.7, 'turnoverPieces': 47730, 'turnoverEuro': 2145696.75}, {'date': '2017-10-24', 'open': 45.155, 'close': 44.85, 'high': 45.265, 'low': 44.745, 'turnoverPieces': 43042, 'turnoverEuro': 1937615.88}, {'date': '2017-10-23', 'open': 44.895, 'close': 45, 'high': 45.34, 'low': 44.885, 'turnoverPieces': 43375, 'turnoverEuro': 1952918.5}, {'date': '2017-10-20', 'open': 45.075, 'close': 44.87, 'high': 45.34, 'low': 44.76, 'turnoverPieces': 55707, 'turnoverEuro': 2503853}, {'date': '2017-10-19', 'open': 45.715, 'close': 45, 'high': 45.845, 'low': 44.79, 'turnoverPieces': 59991, 'turnoverEuro': 2703084.75}, {'date': '2017-10-18', 'open': 46.005, 'close': 45.765, 'high': 46.195, 'low': 45.605, 'turnoverPieces': 45263, 'turnoverEuro': 2076950.5}], 'totalCount': 252, 'tradedInPercent': False}\n"
     ]
    }
   ],
   "source": [
    "# Now, call the Quandl API and pull out a small sample of the data (only one day) to get a glimpse\n",
    "# into the JSON structure that will be returned\n",
    "response=requests.get('https://api.boerse-frankfurt.de/data/price_history?limit=50&offset=0&isin=DE0005313704&mic=XETR&minDate=2017-01-01&maxDate=2017-12-31')\n",
    "data=json.loads(response.text)\n",
    "print(data)\n"
   ]
  },
  {
   "cell_type": "code",
   "execution_count": 6,
   "metadata": {},
   "outputs": [
    {
     "name": "stdout",
     "output_type": "stream",
     "text": [
      "minimum open price  44.895\n",
      "maximum open price  53.11\n",
      "largest change in any one day (based on High and Low price)  1.8150000000000048\n",
      "largest change between any two days (based on Closing Price)  8.240000000000002\n",
      "average daily trading volume during this year  77716.04\n",
      "median trading volume during this year  71491.0\n"
     ]
    }
   ],
   "source": [
    "# Inspect the JSON structure of the object you created, and take note of how nested it is,\n",
    "# as well as the overall structure\n",
    "stockdata=data[\"data\"]\n",
    "maxhilodiff=float(\"-inf\")\n",
    "openprices=[]\n",
    "closingprices=[]\n",
    "turnoverprices=[]\n",
    "median=0\n",
    "\n",
    "for x in stockdata:\n",
    "    openprices.append(x[\"open\"])\n",
    "    closingprices.append(x[\"close\"])\n",
    "    turnoverprices.append(x[\"turnoverPieces\"])\n",
    "    hilodiff=x[\"high\"]-x[\"low\"]\n",
    "   \n",
    "    if hilodiff>maxhilodiff:\n",
    "        maxhilodiff=hilodiff\n",
    "turnoverprices.sort()\n",
    "if len(turnoverprices)%2==0:\n",
    "    median=(turnoverprices[len(turnoverprices)//2]+turnoverprices[(len(turnoverprices)//2)+1])/2\n",
    "else:\n",
    "    median=turnoverprices[len(turnoverprices)//2]\n",
    "\n",
    "print(\"minimum open price \",min(openprices))\n",
    "print(\"maximum open price \",max(openprices))\n",
    "print(\"largest change in any one day (based on High and Low price) \",maxhilodiff)\n",
    "print(\"largest change between any two days (based on Closing Price) \",max(closingprices)-min(closingprices))\n",
    "print(\"average daily trading volume during this year \",sum(turnoverprices)/len(turnoverprices))\n",
    "print(\"median trading volume during this year \",median)\n",
    "\n"
   ]
  },
  {
   "cell_type": "markdown",
   "metadata": {},
   "source": [
    "These are your tasks for this mini project:\n",
    "\n",
    "1. Collect data from the Franfurt Stock Exchange, for the ticker AFX_X, for the whole year 2017 (keep in mind that the date format is YYYY-MM-DD).\n",
    "2. Convert the returned JSON object into a Python dictionary.\n",
    "3. Calculate what the highest and lowest opening prices were for the stock in this period.\n",
    "4. What was the largest change in any one day (based on High and Low price)?\n",
    "5. What was the largest change between any two days (based on Closing Price)?\n",
    "6. What was the average daily trading volume during this year?\n",
    "7. (Optional) What was the median trading volume during this year. (Note: you may need to implement your own function for calculating the median.)"
   ]
  }
 ],
 "metadata": {
  "kernelspec": {
   "display_name": "Python 3",
   "language": "python",
   "name": "python3"
  },
  "language_info": {
   "codemirror_mode": {
    "name": "ipython",
    "version": 3
   },
   "file_extension": ".py",
   "mimetype": "text/x-python",
   "name": "python",
   "nbconvert_exporter": "python",
   "pygments_lexer": "ipython3",
   "version": "3.7.6"
  }
 },
 "nbformat": 4,
 "nbformat_minor": 4
}
